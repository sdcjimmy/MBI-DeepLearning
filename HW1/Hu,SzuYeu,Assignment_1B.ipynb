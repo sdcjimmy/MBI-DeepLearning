{
 "cells": [
  {
   "cell_type": "markdown",
   "metadata": {},
   "source": [
    "## Assignment 1B - Multilayer Perceptrons (MLPs)"
   ]
  },
  {
   "cell_type": "markdown",
   "metadata": {},
   "source": [
    "### Please include your name below\n",
    "__Student name:__ Szu-Yeu, Hu\n",
    "\n",
    "### Data and preliminaries\n",
    "You will be using the same data that you used from assignment 1A. To load the data, run the following command:"
   ]
  },
  {
   "cell_type": "code",
   "execution_count": 81,
   "metadata": {},
   "outputs": [],
   "source": [
    "import numpy as np\n",
    "from sklearn.metrics import roc_auc_score\n",
    "import matplotlib.pyplot as plt\n",
    "\n",
    "train_X = np.load(\"train_X.npy\")\n",
    "train_y = np.load(\"train_y.npy\")\n",
    "val_X = np.load(\"val_X.npy\")\n",
    "val_y = np.load(\"val_y.npy\")\n",
    "\n",
    "## Reshape the ys to have a specified second index \n",
    "train_y = train_y.reshape((len(train_y),1))\n",
    "val_y = val_y.reshape((len(val_y),1))\n",
    "\n",
    "train_X = np.hstack((np.ones((len(train_X),1)),train_X))\n",
    "val_X = np.hstack((np.ones((len(val_X),1)),val_X))"
   ]
  },
  {
   "cell_type": "markdown",
   "metadata": {},
   "source": [
    "### Question 2.1 (10 points)\n",
    "Fill in the `forward_pass` function below. __No loops__ are allowed, use only matrix, vector, or elementwise operations. Note that this function returns __two__ items `p, H`. `p` is the normal forward pass probabilities, while `H` is the hidden unit activations, which will be needed for the backward pass."
   ]
  },
  {
   "cell_type": "code",
   "execution_count": 82,
   "metadata": {},
   "outputs": [],
   "source": [
    "## Fill in this funtion and have it return the correct result\n",
    "def forward_pass(X,w_h,w_o):\n",
    "    \"\"\"\n",
    "    Function arguments:\n",
    "    X - Matrix input features\n",
    "    w_h - Matrix of weights in the hidden layer\n",
    "    w_o - Vector of weights in the output layer\n",
    "    Returns:\n",
    "    p - Vector of probabilities from the network's output layer\n",
    "    H - Matrix of activations in the hidden layer after the ReLU has been applied\n",
    "    \"\"\"\n",
    "    p = None\n",
    "    H = None\n",
    "    \n",
    "    h = X.dot(w_h)\n",
    "    H = np.maximum(h, 0)\n",
    "    o = H.dot(w_o)\n",
    "    p = 1/(1 + np.exp(-o)) \n",
    "    return p, H"
   ]
  },
  {
   "cell_type": "markdown",
   "metadata": {},
   "source": [
    "### Question 2.2 (10 points)\n",
    "Fill in the `backward_pass_output` and `backward_pass_hidden` functions below. __No loops__ are allowed, use only matrix, vector, or elementwise operations. You should be computing the average gradient, instead of the sum of gradients in the backward pass. "
   ]
  },
  {
   "cell_type": "code",
   "execution_count": 83,
   "metadata": {},
   "outputs": [],
   "source": [
    "def backward_pass_output(y,X,p,H):\n",
    "    \"\"\"\n",
    "    Function arguments:\n",
    "    y - Vector of lables\n",
    "    X - Matrix input features\n",
    "    p - Vector of probabilities from the network's output layer\n",
    "    H - Matrix of activations in the hidden layer after the ReLU has been applied\n",
    "    Returns\n",
    "    g_w_output - Vector of gradients for weights in output layer\n",
    "    \"\"\"\n",
    "    ## compute g_w_output\n",
    "    g_w_output = H.T.dot(p - y)/H.shape[0]\n",
    "    return g_w_output\n",
    "\n",
    "def backward_pass_hidden(y,X,p,H,w_o):\n",
    "    \"\"\"\n",
    "    Function arguments:\n",
    "    y - Vector of lables\n",
    "    X - Matrix input features\n",
    "    p - Vector of probabilities from the network's output layer\n",
    "    H - Matrix of activations in the hidden layer after the ReLU has been applied\n",
    "    w_o - Vector of output layer weights\n",
    "    Returns\n",
    "    g_w_hidden - Matrix of gradients for weights in hidden layer\n",
    "    \"\"\"\n",
    "    ## compute g_w_hidden\n",
    "    dH = (p-y).dot(w_o.T)\n",
    "    dH = np.where(H > 0, dH, 0)\n",
    "    g_w_hidden = X.T.dot(dH)/X.shape[0]\n",
    "    \n",
    "    return g_w_hidden"
   ]
  },
  {
   "cell_type": "markdown",
   "metadata": {},
   "source": [
    "### Question 2.3 (20 points)\n",
    "Train your perceptron using the `forward_pass`, `backward_pass_output`, and `backward_pass_hidden` functions for 1,000 iterations. Report the loss, accuracy, AUC for both the training and validation data sets. Plot the training and validation loss vs the iteration number. Modify this cell to include your your results and commentary on your approach. \n",
    "\n",
    "---\n",
    "\n",
    "My learning rate was:\n",
    "\n",
    "| Metric        | Training      | Validation  |\n",
    "| ------------- | ------------- |-------------|\n",
    "| Loss          |      0.2159      |      0.3207    |\n",
    "| Accuracy      | 91.14%      |      87.80%    |\n",
    "| AUC           | 0.9283      |      0.8332    |\n",
    "\n",
    "\n",
    "Please include the required discussion points here.\n",
    "\n",
    "After adding an addition hidden layer, the training accuracy improved from 88% to 91%, but the validation accuracy did not improved much. From the training-validation loss plot, we can see the loss of validation set became larger with more iteration, and the gap between two lines gradually enlarged. It shows that the more complex model cause the data to be overfitting, therefore it only improves on training set, not on validation set."
   ]
  },
  {
   "cell_type": "code",
   "execution_count": 100,
   "metadata": {},
   "outputs": [],
   "source": [
    "## Your code goes here\n",
    "t = 128\n",
    "#w_h = np.random.randn(train_X.shape[1],t) * np.sqrt(2.0/train_X.shape[1])\n",
    "#w_o = np.random.randn(t,1) * np.sqrt(2.0/t)\n",
    "\n",
    "w_h = np.random.normal(scale=0.01, size = (train_X.shape[1], t))\n",
    "w_o = np.random.normal(scale=0.01, size = (t, 1))\n",
    "\n",
    "#w_h = np.zeros((train_X.shape[1],t),dtype= 'float32')\n",
    "#w_o = np.zeros((t,1), dtype='float32')\n",
    "train_loss_list = []\n",
    "val_loss_list = []\n",
    "accuracy_list = []\n",
    "n_iterations = 1000\n",
    "lr = 0.1\n",
    "\n",
    "for i in range(n_iterations):\n",
    "    train_p, train_H = forward_pass(train_X,w_h,w_o)\n",
    "    val_p, _ = forward_pass(val_X,w_h, w_o)\n",
    "    \n",
    "    train_loss = np.mean(-(train_y*np.log(train_p + 1e-6) + (1- train_y)*np.log(1 - train_p + 1e-6)))\n",
    "    val_loss = np.mean(-(val_y*np.log(val_p + 1e-6) + (1- val_y) * np.log(1 - val_p + 1e-6)))\n",
    "\n",
    "    gw_o = backward_pass_output(train_y,train_X,train_p,train_H)\n",
    "    gw_h = backward_pass_hidden(train_y,train_X,train_p,train_H,w_o)\n",
    "    \n",
    "    w_o = w_o - lr * gw_o\n",
    "    w_h = w_h - lr * gw_h\n",
    "    \n",
    "    train_loss_list.append(train_loss)\n",
    "    val_loss_list.append(val_loss)\n",
    "    \n",
    "    "
   ]
  },
  {
   "cell_type": "code",
   "execution_count": 93,
   "metadata": {},
   "outputs": [
    {
     "name": "stdout",
     "output_type": "stream",
     "text": [
      "training loss:0.215910230198937\n",
      "validation loss0.32065404428554084\n",
      "training accuracy:0.9113820584428853\n",
      "validation accuracy:0.8780260707635009\n",
      "training AUC:0.9283417287205341\n",
      "validation AUC:0.8332092968117124\n"
     ]
    }
   ],
   "source": [
    "training = False\n",
    "train_p,_,_ = forward_pass_dropout(train_X,w_h,w_o,dropout_prob,training)\n",
    "train_pred = np.round(train_p)\n",
    "train_acc = np.sum(train_y == train_pred)/len(train_y)\n",
    "val_p,_,_= forward_pass_dropout(val_X,w_h,w_o,dropout_prob,training)\n",
    "val_pred = np.round(val_p)\n",
    "val_acc = np.sum(val_y == val_pred)/len(val_y)\n",
    "\n",
    "train_auc = roc_auc_score(train_y, train_p)\n",
    "val_auc = roc_auc_score(val_y, val_p)\n",
    "\n",
    "print(\"training loss:\" + str(train_loss_list[-1]))\n",
    "print(\"validation loss\" + str(val_loss_list[-1]))\n",
    "print(\"training accuracy:\" + str(train_acc))\n",
    "print(\"validation accuracy:\" + str(val_acc))\n",
    "print(\"training AUC:\" + str(train_auc))\n",
    "print(\"validation AUC:\" + str(val_auc))"
   ]
  },
  {
   "cell_type": "code",
   "execution_count": 94,
   "metadata": {},
   "outputs": [
    {
     "data": {
      "text/plain": [
       "<matplotlib.legend.Legend at 0x1a236f5c88>"
      ]
     },
     "execution_count": 94,
     "metadata": {},
     "output_type": "execute_result"
    },
    {
     "data": {
      "image/png": "[encoded data removed]",
      "text/plain": [
       "<Figure size 432x288 with 1 Axes>"
      ]
     },
     "metadata": {},
     "output_type": "display_data"
    }
   ],
   "source": [
    "plt.figure()\n",
    "plt.plot(range(n_iterations),train_loss_list)\n",
    "plt.plot(range(n_iterations),val_loss_list)\n",
    "plt.title(\"Loss over iteration\")\n",
    "plt.legend([\"train loss\",\"val loss\"])"
   ]
  },
  {
   "cell_type": "markdown",
   "metadata": {},
   "source": [
    "### Question 2.4 (10 points)\n",
    "Repeat question 2.3 but include dropout between the hidden and output layers. Show your code in the cell below. Fill out the table and values in this cell and include the discussion comparing this model to the previous model.\n",
    "\n",
    "---\n",
    "\n",
    "My learning rate was: 0.1\n",
    "<br/>\n",
    "My optimal value for $\\lambda$ was: \n",
    "\n",
    "Results for the __best__ model are shown below:\n",
    "\n",
    "\n",
    "| Metric        | Training      | Validation  |\n",
    "| ------------- | ------------- |-------------|\n",
    "| Loss          |      0.2529      |      0.3231    |\n",
    "| Accuracy      | 86.4&%      |      86.47%    |\n",
    "| AUC           | 0.9136      |      0.8365    |\n",
    "\n",
    "\n",
    "Discussion points included below:\n",
    "After adding dropout layer with dropout rate 0.5, the performance on training and validation set both became worse, both of the accuracy are about 86%, but the AUC is roughly the same. Comparing with the model without dropout, the main difference is that the validation loss do not goes up significantly as before. It indicated that dropout make the model less overfit. It could potentially improve the overall performance with different learning rate and dropout rate."
   ]
  },
  {
   "cell_type": "code",
   "execution_count": 96,
   "metadata": {},
   "outputs": [],
   "source": [
    "## Define your new functions below\n",
    "def forward_pass_dropout(X,w_h,w_o,dropout_prob,training=True):\n",
    "    \"\"\"\n",
    "    Function arguments:\n",
    "    X - Matrix input features\n",
    "    w_h - Matrix of weights in the hidden layer\n",
    "    w_o - Vector of weights in the output layer\n",
    "    training - Boolean flag indicating whether dropout should be on or off\n",
    "    Returns:\n",
    "    p - Vector of probabilities from the network's output layer\n",
    "    H - Matrix of activations in the hidden layer after the ReLU has been applied\n",
    "    dropout_mask - Matrix of binary values indicating which activations have been dropped\n",
    "    \"\"\"\n",
    "    p = None\n",
    "    H = None\n",
    "    dropout_mask = None\n",
    "    \n",
    "    h = X.dot(w_h)\n",
    "    H = np.maximum(h, 0)\n",
    "    dropout_mask = np.where(np.random.rand(*H.shape) < dropout_prob, 0, 1)\n",
    "    if training == True:\n",
    "        H_d = H * dropout_mask\n",
    "    else:\n",
    "        H_d = H * (1 - dropout_prob)\n",
    "    o = H_d.dot(w_o)\n",
    "    p = 1/(1+np.exp(-o))\n",
    "    return p, H, dropout_mask\n",
    "\n",
    "def backward_pass_hidden_dropout(y,X,p,H,w_o,dropout_mask):\n",
    "    \"\"\"\n",
    "    Function arguments:\n",
    "    y - Vector of lables\n",
    "    X - Matrix input features\n",
    "    p - Vector of probabilities from the network's output layer\n",
    "    H - Matrix of activations in the hidden layer after the ReLU has been applied\n",
    "    w_o - Vector of output layer weights\n",
    "    dropout_mask - Matrix of binary values indicating which activations have been dropped\n",
    "    Returns:\n",
    "    g_w_hidden - Matrix of gradients for weights in hidden layer\n",
    "    \"\"\"    \n",
    "    dH_d = (p-y).dot(w_o.T)\n",
    "    dH = dH_d * dropout_mask\n",
    "    dH = np.where(H > 0, dH, 0)\n",
    "    g_w_hidden = X.T.dot(dH)/X.shape[0]\n",
    "    return g_w_hidden"
   ]
  },
  {
   "cell_type": "code",
   "execution_count": 97,
   "metadata": {},
   "outputs": [],
   "source": [
    "## your training loop goes here\n",
    "## Your code goes here\n",
    "t = 128\n",
    "\n",
    "#w_h = np.random.randn(train_X.shape[1],t) * np.sqrt(2.0/train_X.shape[1])\n",
    "#w_o = np.random.randn(t,1) * np.sqrt(2.0/t)\n",
    "\n",
    "w_h = np.random.normal(scale=0.01, size = (train_X.shape[1], t))\n",
    "w_o = np.random.normal(scale=0.01, size = (t, 1))\n",
    "\n",
    "#w_h = np.zeros((train_X.shape[1],t),dtype= 'float32')\n",
    "#w_o = np.zeros((t,1), dtype='float32')\n",
    "train_loss_list = []\n",
    "val_loss_list = []\n",
    "accuracy_list = []\n",
    "n_iterations = 1000\n",
    "lr = 0.1\n",
    "dropout_prob = 0.5\n",
    "\n",
    "for i in range(n_iterations):\n",
    "    training = True\n",
    "    train_p, train_H, dropout_mask = forward_pass_dropout(train_X,w_h,w_o,dropout_prob,training)\n",
    "    \n",
    "    gw_o = backward_pass_output(train_y,train_X,train_p,train_H)\n",
    "    gw_h = backward_pass_hidden_dropout(train_y,train_X,train_p,train_H,w_o,dropout_mask)\n",
    "    \n",
    "    training = False\n",
    "    \n",
    "    val_p, _ , _ , = forward_pass_dropout(val_X,w_h,w_o,dropout_prob,training)\n",
    "    train_loss = np.mean(-(train_y*np.log(train_p+1e-8) + (1-train_y)*np.log(1-train_p+1e-8)))\n",
    "    val_loss = np.mean(-(val_y*np.log(val_p+1e-8) + (1-val_y)*np.log(1-val_p+1e-8)))\n",
    "\n",
    "     \n",
    "    w_o = w_o - lr * gw_o\n",
    "    w_h = w_h - lr * gw_h\n",
    "    \n",
    "    train_loss_list.append(train_loss)\n",
    "    val_loss_list.append(val_loss)\n",
    "    "
   ]
  },
  {
   "cell_type": "code",
   "execution_count": 98,
   "metadata": {},
   "outputs": [
    {
     "name": "stdout",
     "output_type": "stream",
     "text": [
      "training loss:0.2524356344387477\n",
      "validation loss0.32390687124676726\n",
      "training accuracy:0.8646549962536612\n",
      "validation accuracy:0.8646803227808815\n",
      "training AUC:0.9134495736387671\n",
      "validation AUC:0.8348607388186016\n"
     ]
    }
   ],
   "source": [
    "training = False\n",
    "train_p,_,_ = forward_pass_dropout(train_X,w_h,w_o,dropout_prob,training)\n",
    "train_pred = np.round(train_p)\n",
    "train_acc = np.sum(train_y == train_pred)/len(train_y)\n",
    "val_p,_,_= forward_pass_dropout(val_X,w_h,w_o,dropout_prob,training)\n",
    "val_pred = np.round(val_p)\n",
    "val_acc = np.sum(val_y == val_pred)/len(val_y)\n",
    "\n",
    "train_auc = roc_auc_score(train_y, train_p)\n",
    "val_auc = roc_auc_score(val_y, val_p)\n",
    "\n",
    "print(\"training loss:\" + str(train_loss_list[-1]))\n",
    "print(\"validation loss\" + str(val_loss_list[-1]))\n",
    "print(\"training accuracy:\" + str(train_acc))\n",
    "print(\"validation accuracy:\" + str(val_acc))\n",
    "print(\"training AUC:\" + str(train_auc))\n",
    "print(\"validation AUC:\" + str(val_auc))"
   ]
  },
  {
   "cell_type": "code",
   "execution_count": 99,
   "metadata": {},
   "outputs": [
    {
     "data": {
      "text/plain": [
       "<matplotlib.legend.Legend at 0x1a23805b38>"
      ]
     },
     "execution_count": 99,
     "metadata": {},
     "output_type": "execute_result"
    },
    {
     "data": {
      "image/png": "[encoded data removed]",
      "text/plain": [
       "<Figure size 432x288 with 1 Axes>"
      ]
     },
     "metadata": {},
     "output_type": "display_data"
    }
   ],
   "source": [
    "plt.plot(range(n_iterations),train_loss_list)\n",
    "plt.plot(range(n_iterations),val_loss_list)\n",
    "plt.title(\"Loss over iteration\")\n",
    "plt.legend([\"train loss\",\"val loss\"])"
   ]
  }
 ],
 "metadata": {
  "kernelspec": {
   "display_name": "Python 3",
   "language": "python",
   "name": "python3"
  },
  "language_info": {
   "codemirror_mode": {
    "name": "ipython",
    "version": 3
   },
   "file_extension": ".py",
   "mimetype": "text/x-python",
   "name": "python",
   "nbconvert_exporter": "python",
   "pygments_lexer": "ipython3",
   "version": "3.6.4"
  }
 },
 "nbformat": 4,
 "nbformat_minor": 2
}
