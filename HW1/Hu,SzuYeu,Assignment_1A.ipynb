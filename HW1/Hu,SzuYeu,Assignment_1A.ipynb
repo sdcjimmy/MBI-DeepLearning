{
 "cells": [
  {
   "cell_type": "markdown",
   "metadata": {},
   "source": [
    "## Assignment 1A - Backprop and Perceptrons"
   ]
  },
  {
   "cell_type": "markdown",
   "metadata": {},
   "source": [
    "### Please include your name below\n",
    "__Student name:__ Szu-Yeu Hu\n",
    "\n",
    "### Data and preliminaries\n",
    "Use the cell below to load any data or python libraries that you will need."
   ]
  },
  {
   "cell_type": "code",
   "execution_count": 1,
   "metadata": {},
   "outputs": [],
   "source": [
    "import numpy as np\n",
    "from sklearn.metrics import roc_auc_score, roc_curve\n",
    "import matplotlib.pyplot as plt\n",
    "\n",
    "train_X = np.load(\"train_X.npy\")\n",
    "train_y = np.load(\"train_y.npy\")\n",
    "val_X = np.load(\"val_X.npy\")\n",
    "val_y = np.load(\"val_y.npy\")\n",
    "\n",
    "train_X = np.hstack((np.ones((len(train_X),1)),train_X))\n",
    "val_X = np.hstack((np.ones((len(val_X),1)),val_X))\n"
   ]
  },
  {
   "cell_type": "markdown",
   "metadata": {},
   "source": [
    "### Question 1.1 (10 points)\n",
    "Fill in the `forward_pass` funtion below. __No loops__ are allowed, use only matrix, vector, or elementwise operations."
   ]
  },
  {
   "cell_type": "code",
   "execution_count": 2,
   "metadata": {},
   "outputs": [],
   "source": [
    "## Fill in this funtion and have it return the correct result\n",
    "def forward_pass(X,w):\n",
    "    o = X.dot(w)\n",
    "    p = 1/(1+np.exp(-o))\n",
    "    \n",
    "    return p"
   ]
  },
  {
   "cell_type": "markdown",
   "metadata": {},
   "source": [
    "### Question 1.2 (10 points)\n",
    "Fill in the `backward_pass` function below. __No loops__ are allowed, use only matrix, vector, or elementwise operations. You should be computing the average gradient, instead of the sum of gradients in the backward pass. "
   ]
  },
  {
   "cell_type": "code",
   "execution_count": 3,
   "metadata": {},
   "outputs": [],
   "source": [
    "def backward_pass(y,X,p):\n",
    "    \n",
    "    loss = np.mean(-(y*np.log(p) + (1-y)*np.log(1-p)))\n",
    "    grad = X.T.dot(p - y)/X.shape[0]\n",
    "    \n",
    "    return loss,grad"
   ]
  },
  {
   "cell_type": "markdown",
   "metadata": {},
   "source": [
    "### Question 1.3 (20 points)\n",
    "Train your perceptron using the `forward_pass` and `backward_pass` funtions for 1,000 iterations. Report the loss, accuracy, AUC for both the training and validation data sets. Plot the training and validation loss vs the iteration number. Modify this cell to include your your results and commentary on your approach. \n",
    "\n",
    "---\n",
    "\n",
    "My learning rate was: 0.05\n",
    "\n",
    "| Metric        | Training      | Validation  |\n",
    "| ------------- | ------------- |-------------|\n",
    "| Loss          |      0.2751      |      0.3226    |\n",
    "| Accuracy      | 88.71%      |      87.58%   |\n",
    "| AUC           | 0.8702      |      0.8397    |\n",
    "\n",
    "\n",
    "Please include the required discussion points here.\n",
    "The accuracy of training and validation set are between 87-89% with different learning rates. The plot shows that the model is mildly overfitting, since the loss of training and validation are enlarging over iterations. But such effect is not significant, and two line looks almost parallel. To sum up, I would not take it as overfitting regarding this plot."
   ]
  },
  {
   "cell_type": "code",
   "execution_count": 4,
   "metadata": {},
   "outputs": [],
   "source": [
    "## Your code goes here\n",
    "w = np.zeros(train_X.shape[1],dtype= 'float32')\n",
    "train_loss_list = []\n",
    "val_loss_list = []\n",
    "accuracy_list = []\n",
    "n_iterations = 1000\n",
    "lr = 0.05\n",
    "for iter in range(n_iterations):\n",
    "    train_p = forward_pass(train_X,w)\n",
    "    train_loss,g = backward_pass(train_y,train_X,train_p)\n",
    "    \n",
    "    val_p = forward_pass(val_X,w)\n",
    "    val_loss = np.mean(-(val_y*np.log(val_p+1e-8) + (1-val_y)*np.log(1-val_p+1e-8)))\n",
    "\n",
    "    w = w - lr * g\n",
    "    \n",
    "    train_loss_list.append(train_loss)\n",
    "    val_loss_list.append(val_loss)\n",
    "    "
   ]
  },
  {
   "cell_type": "code",
   "execution_count": 5,
   "metadata": {},
   "outputs": [
    {
     "name": "stdout",
     "output_type": "stream",
     "text": [
      "training accuracy:0.8871330290852122\n",
      "validation accuracy:0.8758535071384234\n"
     ]
    }
   ],
   "source": [
    "train_p = (forward_pass(train_X,w))\n",
    "train_pred = np.round(train_p)\n",
    "train_acc = np.sum(train_y == train_pred)/len(train_y)\n",
    "val_p = (forward_pass(val_X,w))\n",
    "val_pred = np.round(val_p)\n",
    "val_acc = np.sum(val_y == val_pred)/len(val_y)\n",
    "print(\"training accuracy:\" + str(train_acc))\n",
    "print(\"validation accuracy:\" + str(val_acc))"
   ]
  },
  {
   "cell_type": "code",
   "execution_count": 6,
   "metadata": {
    "slideshow": {
     "slide_type": "-"
    }
   },
   "outputs": [
    {
     "name": "stdout",
     "output_type": "stream",
     "text": [
      "\n",
      "Area under the ROC curve: 0.8701828546970148\n"
     ]
    },
    {
     "data": {
      "text/plain": [
       "<matplotlib.legend.Legend at 0x1088e4cf8>"
      ]
     },
     "execution_count": 6,
     "metadata": {},
     "output_type": "execute_result"
    },
    {
     "data": {
      "image/png": "[encoded data removed]",
      "text/plain": [
       "<Figure size 432x288 with 1 Axes>"
      ]
     },
     "metadata": {},
     "output_type": "display_data"
    }
   ],
   "source": [
    "#Training set Area under the ROC curve\n",
    "fpr, tpr, thresholds = roc_curve(train_y, train_p)\n",
    "AUC_ROC = roc_auc_score(train_y, train_p)\n",
    "print(\"\\nArea under the ROC curve: \" + str(AUC_ROC))\n",
    "#roc_curve =plt.figure()\n",
    "plt.plot(fpr,tpr,'-',label='Area Under the Curve (AUC = %0.4f)' % AUC_ROC)\n",
    "plt.title('ROC curve')\n",
    "plt.xlabel(\"FPR (False Positive Rate)\")\n",
    "plt.ylabel(\"TPR (True Positive Rate)\")\n",
    "plt.legend(loc=\"lower right\")"
   ]
  },
  {
   "cell_type": "code",
   "execution_count": 7,
   "metadata": {},
   "outputs": [
    {
     "name": "stdout",
     "output_type": "stream",
     "text": [
      "\n",
      "Area under the ROC curve: 0.839732739714299\n"
     ]
    },
    {
     "data": {
      "text/plain": [
       "<matplotlib.legend.Legend at 0x1a1a10fd68>"
      ]
     },
     "execution_count": 7,
     "metadata": {},
     "output_type": "execute_result"
    },
    {
     "data": {
      "image/png": "[encoded data removed]",
      "text/plain": [
       "<Figure size 432x288 with 1 Axes>"
      ]
     },
     "metadata": {},
     "output_type": "display_data"
    }
   ],
   "source": [
    "fpr, tpr, thresholds = roc_curve(val_y, val_p)\n",
    "AUC_ROC = roc_auc_score(val_y, val_p)\n",
    "print(\"\\nArea under the ROC curve: \" + str(AUC_ROC))\n",
    "#roc_curve =plt.figure()\n",
    "plt.plot(fpr,tpr,'-',label='Area Under the Curve (AUC = %0.4f)' % AUC_ROC)\n",
    "plt.title('ROC curve')\n",
    "plt.xlabel(\"FPR (False Positive Rate)\")\n",
    "plt.ylabel(\"TPR (True Positive Rate)\")\n",
    "plt.legend(loc=\"lower right\")"
   ]
  },
  {
   "cell_type": "code",
   "execution_count": 8,
   "metadata": {},
   "outputs": [
    {
     "data": {
      "text/plain": [
       "<matplotlib.legend.Legend at 0x1a1a172c50>"
      ]
     },
     "execution_count": 8,
     "metadata": {},
     "output_type": "execute_result"
    },
    {
     "data": {
      "image/png": "[encoded data removed]",
      "text/plain": [
       "<Figure size 432x288 with 1 Axes>"
      ]
     },
     "metadata": {},
     "output_type": "display_data"
    }
   ],
   "source": [
    "plt.plot(range(n_iterations),train_loss_list)\n",
    "plt.plot(range(n_iterations),val_loss_list)\n",
    "plt.title(\"Loss over iteration\")\n",
    "plt.legend([\"train loss\",\"val loss\"])"
   ]
  },
  {
   "cell_type": "markdown",
   "metadata": {},
   "source": [
    "### Question 1.4 (10 points)\n",
    "Repeat question 1.3 but include $L_2$ regularization. Show your code in the cell below. Fill out the table and values in this cell and include the discussion comparing this model to the previous model.\n",
    "\n",
    "---\n",
    "\n",
    "My learning rate was: 0.05\n",
    "<br/>\n",
    "My optimal value for $\\lambda$ was: 0.0073\n",
    "\n",
    "Results for the __best__ model are shown below:\n",
    "\n",
    "\n",
    "| Metric        | Training      | Validation  |\n",
    "| ------------- | ------------- |-------------|\n",
    "| Loss          |      0.285      |      0.326    |\n",
    "| Accuracy      | 88.71%      |      87.58%    |\n",
    "| AUC           | 0.8691      |      0.8427    |\n",
    "\n",
    "\n",
    "Discussion points included below:\n",
    "After searching for 20 different lambda values between 0.01 and 0.00001, the lambda that gives the best validation accuracy is 0.0073. The additional regularization term cause the loss of training set increase from to  0.275 to 0.285, and loss of validation set increase from 0.3226 to 0.326.\n",
    "The accuracy did not improve comparing with the model without regularization, but the AUC of validation set improve from 0.8427 to 0.8397.\n",
    "\n",
    "Overall, the regularization term did not improve this model significantly.\n"
   ]
  },
  {
   "cell_type": "code",
   "execution_count": 9,
   "metadata": {},
   "outputs": [],
   "source": [
    "## Modifications that you will need to make to add the L2 regularization\n",
    "def backward_pass_l2(y,X,p,w,lam):\n",
    "    grad = X.T.dot(p - y)/X.shape[0] + 2 * lam * w\n",
    "    \n",
    "    return grad\n",
    "\n",
    "def cost_with_l2(y,p,w,lam):\n",
    "    cost = np.mean(-(np.log(p + 1e-8)*y + np.log(1-p + 1e-8)*(1-y))) + lam * np.sum(w**2)\n",
    "    return cost\n"
   ]
  },
  {
   "cell_type": "code",
   "execution_count": 10,
   "metadata": {},
   "outputs": [],
   "source": [
    "def training(train_X, train_y, val_X, val_y, lr, lam, n_iterations):   \n",
    "    w = np.zeros(train_X.shape[1],dtype= 'float32')\n",
    "    train_cost_list = []\n",
    "    val_cost_list = []\n",
    "    train_loss_list = []\n",
    "    val_loss_list = []\n",
    "    for iter in range(n_iterations):\n",
    "        train_p = forward_pass(train_X,w)\n",
    "        train_cost = cost_with_l2(train_y, train_p, w, lam)\n",
    "        train_loss =  np.mean(-(train_y*np.log(train_p + 1e-8) + (1-train_y)*np.log(1-train_p+1e-8)))\n",
    "        g = backward_pass_l2(train_y,train_X,train_p, w, lam)\n",
    "\n",
    "        val_p = forward_pass(val_X,w)\n",
    "        val_cost = cost_with_l2(val_y, val_p, w, lam)\n",
    "        val_loss = np.mean(-(val_y*np.log(val_p+1e-8) + (1-val_y)*np.log(1-val_p+1e-8)))\n",
    "\n",
    "        w = w - lr * g\n",
    "\n",
    "        train_cost_list.append(train_cost)\n",
    "        val_cost_list.append(val_cost)\n",
    "        train_loss_list.append(train_loss)\n",
    "        val_loss_list.append(val_loss)\n",
    "    \n",
    "    return w, train_loss_list, val_loss_list, train_cost_list, val_cost_list\n",
    "\n",
    "def testing(train_X, train_y, val_X, val_y, w):\n",
    "    train_p = (forward_pass(train_X,w))\n",
    "    train_pred = np.round(train_p)\n",
    "    train_acc = np.sum(train_y == train_pred)/len(train_y)\n",
    "    val_p = (forward_pass(val_X,w))\n",
    "    val_pred = np.round(val_p)\n",
    "    val_acc = np.sum(val_y == val_pred)/len(val_y)\n",
    "    #print(\"training accuracy:\" + str(train_acc))\n",
    "    #print(\"validation accuracy:\" + str(val_acc))\n",
    "    \n",
    "    \n",
    "    train_auc = roc_auc_score(train_y, train_p)\n",
    "    #print(\"Area under the ROC curve: \" + str(train_auc))\n",
    "    val_auc = roc_auc_score(val_y, val_p)\n",
    "    #print(\"Area under the ROC curve: \" + str(val_auc))\n",
    "    \n",
    "    return train_acc, val_acc, train_auc, val_auc\n",
    "\n",
    "# Training settings\n",
    "n_iterations = 1000\n",
    "lr = 0.05\n",
    "#lrs = np.linspace(start = 1e-1, stop = 1e-5, num = 20)\n",
    "lambda_list = np.linspace(start=1e-2, stop=1e-5, num=20)\n",
    "#lam = 0.01\n",
    "best_lambda = 0\n",
    "best_train_loss_list = []\n",
    "best_val_loss_list = []\n",
    "best_train_cost_list = []\n",
    "best_val_cost_list = []\n",
    "best_train_acc = 0\n",
    "best_val_acc = 0\n",
    "best_train_auc = 0\n",
    "best_val_auc = 0\n",
    "\n",
    "for lam in lambda_list:\n",
    "    w, train_loss_list, val_loss_list, train_cost_list, val_cost_list = training(train_X, train_y, val_X, val_y, lr, lam, n_iterations)\n",
    "    train_acc, val_acc,train_auc, val_auc = testing(train_X, train_y, val_X, val_y, w)\n",
    "    \n",
    "    \n",
    "    if val_acc > best_val_acc:\n",
    "        best_val_acc = val_acc\n",
    "        best_train_acc = train_acc\n",
    "        best_val_loss_list = val_loss_list\n",
    "        best_train_loss_list = train_loss_list\n",
    "        best_val_cost_list = val_cost_list\n",
    "        best_train_cost_list = train_cost_list\n",
    "        best_train_auc = train_auc\n",
    "        best_val_auc = val_auc\n",
    "        best_lambda = lam\n",
    "    "
   ]
  },
  {
   "cell_type": "code",
   "execution_count": 11,
   "metadata": {},
   "outputs": [
    {
     "name": "stdout",
     "output_type": "stream",
     "text": [
      "best lambda:0.0073710526315789475\n",
      "best training accuracy: 0.8871330290852122\n",
      "best validation accuracy: 0.8758535071384234\n",
      "best training AUC: 0.8690609015319285\n",
      "best validation AUC: 0.8427310207656896\n"
     ]
    }
   ],
   "source": [
    "print(\"best lambda:\" + str(best_lambda))\n",
    "print(\"best training accuracy: \" + str(best_train_acc))\n",
    "print(\"best validation accuracy: \" + str(best_val_acc))\n",
    "print(\"best training AUC:\", best_train_auc)\n",
    "print(\"best validation AUC:\", best_val_auc)"
   ]
  },
  {
   "cell_type": "code",
   "execution_count": 12,
   "metadata": {},
   "outputs": [
    {
     "data": {
      "text/plain": [
       "<matplotlib.legend.Legend at 0x1a1f0a96d8>"
      ]
     },
     "execution_count": 12,
     "metadata": {},
     "output_type": "execute_result"
    },
    {
     "data": {
      "image/png": "[encoded data removed]",
      "text/plain": [
       "<Figure size 432x288 with 1 Axes>"
      ]
     },
     "metadata": {},
     "output_type": "display_data"
    }
   ],
   "source": [
    "plt.plot(range(n_iterations),best_train_cost_list)\n",
    "plt.plot(range(n_iterations),best_val_cost_list)\n",
    "plt.title(\"Loss over iteration\")\n",
    "plt.legend([\"train loss\",\"val loss\"])"
   ]
  }
 ],
 "metadata": {
  "kernelspec": {
   "display_name": "Python 3",
   "language": "python",
   "name": "python3"
  },
  "language_info": {
   "codemirror_mode": {
    "name": "ipython",
    "version": 3
   },
   "file_extension": ".py",
   "mimetype": "text/x-python",
   "name": "python",
   "nbconvert_exporter": "python",
   "pygments_lexer": "ipython3",
   "version": "3.6.4"
  }
 },
 "nbformat": 4,
 "nbformat_minor": 2
}
