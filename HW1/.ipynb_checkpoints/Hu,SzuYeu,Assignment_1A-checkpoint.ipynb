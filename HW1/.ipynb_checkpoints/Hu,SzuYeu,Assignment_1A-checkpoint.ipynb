{
 "cells": [
  {
   "cell_type": "markdown",
   "metadata": {},
   "source": [
    "## Assignment 1A - Backprop and Perceptrons"
   ]
  },
  {
   "cell_type": "markdown",
   "metadata": {},
   "source": [
    "### Please include your name below\n",
    "__Student name:__\n",
    "\n",
    "### Data and preliminaries\n",
    "Use the cell below to load any data or python libraries that you will need."
   ]
  },
  {
   "cell_type": "code",
   "execution_count": 1,
   "metadata": {},
   "outputs": [
    {
     "ename": "ModuleNotFoundError",
     "evalue": "No module named 'sklearn'",
     "output_type": "error",
     "traceback": [
      "\u001b[0;31m---------------------------------------------------------------------------\u001b[0m",
      "\u001b[0;31mModuleNotFoundError\u001b[0m                       Traceback (most recent call last)",
      "\u001b[0;32m<ipython-input-1-20cab66e4d47>\u001b[0m in \u001b[0;36m<module>\u001b[0;34m()\u001b[0m\n\u001b[1;32m      1\u001b[0m \u001b[0;32mimport\u001b[0m \u001b[0mnumpy\u001b[0m \u001b[0;32mas\u001b[0m \u001b[0mnp\u001b[0m\u001b[0;34m\u001b[0m\u001b[0m\n\u001b[0;32m----> 2\u001b[0;31m \u001b[0;32mfrom\u001b[0m \u001b[0msklearn\u001b[0m\u001b[0;34m.\u001b[0m\u001b[0mmetrics\u001b[0m \u001b[0;32mimport\u001b[0m \u001b[0mroc_auc_score\u001b[0m\u001b[0;34m\u001b[0m\u001b[0m\n\u001b[0m\u001b[1;32m      3\u001b[0m \u001b[0;32mimport\u001b[0m \u001b[0mmatplotlib\u001b[0m\u001b[0;34m.\u001b[0m\u001b[0mpyplot\u001b[0m \u001b[0;32mas\u001b[0m \u001b[0mplt\u001b[0m\u001b[0;34m\u001b[0m\u001b[0m\n\u001b[1;32m      4\u001b[0m \u001b[0;34m\u001b[0m\u001b[0m\n\u001b[1;32m      5\u001b[0m \u001b[0mtrain_X\u001b[0m \u001b[0;34m=\u001b[0m \u001b[0mnp\u001b[0m\u001b[0;34m.\u001b[0m\u001b[0mload\u001b[0m\u001b[0;34m(\u001b[0m\u001b[0;34m\"train_X.npy\"\u001b[0m\u001b[0;34m)\u001b[0m\u001b[0;34m\u001b[0m\u001b[0m\n",
      "\u001b[0;31mModuleNotFoundError\u001b[0m: No module named 'sklearn'"
     ]
    }
   ],
   "source": [
    "import numpy as np\n",
    "from sklearn.metrics import roc_auc_score\n",
    "import matplotlib.pyplot as plt\n",
    "\n",
    "train_X = np.load(\"train_X.npy\")\n",
    "train_y = np.load(\"train_y.npy\")\n",
    "val_X = np.load(\"val_X.npy\")\n",
    "val_y = np.load(\"val_y.npy\")\n",
    "\n",
    "train_X = np.hstack((np.ones((len(train_X),1)),train_X))\n",
    "val_X = np.hstack((np.ones((len(val_X),1)),val_X))"
   ]
  },
  {
   "cell_type": "markdown",
   "metadata": {},
   "source": [
    "### Question 1.1 (10 points)\n",
    "Fill in the `forward_pass` funtion below. __No loops__ are allowed, use only matrix, vector, or elementwise operations."
   ]
  },
  {
   "cell_type": "code",
   "execution_count": 12,
   "metadata": {},
   "outputs": [],
   "source": [
    "## Fill in this funtion and have it return the correct result\n",
    "def forward_pass(X,w):\n",
    "    return None"
   ]
  },
  {
   "cell_type": "markdown",
   "metadata": {},
   "source": [
    "### Question 1.2 (10 points)\n",
    "Fill in the `backward_pass` function below. __No loops__ are allowed, use only matrix, vector, or elementwise operations. You should be computing the average gradient, instead of the sum of gradients in the backward pass. "
   ]
  },
  {
   "cell_type": "code",
   "execution_count": 13,
   "metadata": {},
   "outputs": [],
   "source": [
    "def backward_pass(y,X,p):\n",
    "    return None"
   ]
  },
  {
   "cell_type": "markdown",
   "metadata": {},
   "source": [
    "### Question 1.3 (20 points)\n",
    "Train your perceptron using the `forward_pass` and `backward_pass` funtions for 1,000 iterations. Report the loss, accuracy, AUC for both the training and validation data sets. Plot the training and validation loss vs the iteration number. Modify this cell to include your your results and commentary on your approach. \n",
    "\n",
    "---\n",
    "\n",
    "My learning rate was:\n",
    "\n",
    "| Metric        | Training      | Validation  |\n",
    "| ------------- | ------------- |-------------|\n",
    "| Loss          |      0.0      |      0.0    |\n",
    "| Accuracy      | 0.0      |      0.0    |\n",
    "| AUC           | 0.0      |      0.0    |\n",
    "\n",
    "\n",
    "Please include the required discussion points here."
   ]
  },
  {
   "cell_type": "code",
   "execution_count": 1,
   "metadata": {},
   "outputs": [],
   "source": [
    "## Your code goes here"
   ]
  },
  {
   "cell_type": "markdown",
   "metadata": {},
   "source": [
    "### Question 1.4 (10 points)\n",
    "Repeat question 1.3 but include $L_2$ regularization. Show your code in the cell below. Fill out the table and values in this cell and include the discussion comparing this model to the previous model.\n",
    "\n",
    "---\n",
    "\n",
    "My learning rate was: \n",
    "<br/>\n",
    "My optimal value for $\\lambda$ was: \n",
    "\n",
    "Results for the __best__ model are shown below:\n",
    "\n",
    "\n",
    "| Metric        | Training      | Validation  |\n",
    "| ------------- | ------------- |-------------|\n",
    "| Loss          |      0.0      |      0.0    |\n",
    "| Accuracy      | 0.0      |      0.0    |\n",
    "| AUC           | 0.0      |      0.0    |\n",
    "\n",
    "\n",
    "Discussion points included below:"
   ]
  },
  {
   "cell_type": "code",
   "execution_count": 2,
   "metadata": {},
   "outputs": [],
   "source": [
    "## Modifications that you will need to make to add the L2 regularization\n",
    "def backward_pass_l2(y,X,p,w,lam):\n",
    "    return None\n",
    "\n",
    "def cost_with_l2(y,p,w,lam):\n",
    "    return None\n"
   ]
  }
 ],
 "metadata": {
  "kernelspec": {
   "display_name": "Python 3",
   "language": "python",
   "name": "python3"
  },
  "language_info": {
   "codemirror_mode": {
    "name": "ipython",
    "version": 3
   },
   "file_extension": ".py",
   "mimetype": "text/x-python",
   "name": "python",
   "nbconvert_exporter": "python",
   "pygments_lexer": "ipython3",
   "version": "3.6.4"
  }
 },
 "nbformat": 4,
 "nbformat_minor": 2
}
